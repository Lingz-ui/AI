{
  "cells": [
    {
      "cell_type": "markdown",
      "metadata": {
        "id": "view-in-github",
        "colab_type": "text"
      },
      "source": [
        "<a href=\"https://colab.research.google.com/github/Lingz-ui/AI/blob/main/Lingz_sd.ipynb\" target=\"_parent\"><img src=\"https://colab.research.google.com/assets/colab-badge.svg\" alt=\"Open In Colab\"/></a>"
      ]
    },
    {
      "cell_type": "markdown",
      "metadata": {
        "id": "tr05uki3i3U9"
      },
      "source": [
        "Connect to google drive"
      ]
    },
    {
      "cell_type": "code",
      "execution_count": 1,
      "metadata": {
        "colab": {
          "base_uri": "https://localhost:8080/",
          "height": 1000
        },
        "id": "nLjYOTbqgWjk",
        "outputId": "b28f10cf-51c5-49fb-a08c-1b671c723613"
      },
      "outputs": [
        {
          "output_type": "error",
          "ename": "KeyboardInterrupt",
          "evalue": "ignored",
          "traceback": [
            "\u001b[0;31m---------------------------------------------------------------------------\u001b[0m",
            "\u001b[0;31mKeyboardInterrupt\u001b[0m                         Traceback (most recent call last)",
            "\u001b[0;32m<ipython-input-1-d5df0069828e>\u001b[0m in \u001b[0;36m<module>\u001b[0;34m\u001b[0m\n\u001b[1;32m      1\u001b[0m \u001b[0;32mfrom\u001b[0m \u001b[0mgoogle\u001b[0m\u001b[0;34m.\u001b[0m\u001b[0mcolab\u001b[0m \u001b[0;32mimport\u001b[0m \u001b[0mdrive\u001b[0m\u001b[0;34m\u001b[0m\u001b[0;34m\u001b[0m\u001b[0m\n\u001b[0;32m----> 2\u001b[0;31m \u001b[0mdrive\u001b[0m\u001b[0;34m.\u001b[0m\u001b[0mmount\u001b[0m\u001b[0;34m(\u001b[0m\u001b[0;34m'/content/drive'\u001b[0m\u001b[0;34m)\u001b[0m\u001b[0;34m\u001b[0m\u001b[0;34m\u001b[0m\u001b[0m\n\u001b[0m",
            "\u001b[0;32m/usr/local/lib/python3.8/dist-packages/google/colab/drive.py\u001b[0m in \u001b[0;36mmount\u001b[0;34m(mountpoint, force_remount, timeout_ms, readonly)\u001b[0m\n\u001b[1;32m     98\u001b[0m \u001b[0;32mdef\u001b[0m \u001b[0mmount\u001b[0m\u001b[0;34m(\u001b[0m\u001b[0mmountpoint\u001b[0m\u001b[0;34m,\u001b[0m \u001b[0mforce_remount\u001b[0m\u001b[0;34m=\u001b[0m\u001b[0;32mFalse\u001b[0m\u001b[0;34m,\u001b[0m \u001b[0mtimeout_ms\u001b[0m\u001b[0;34m=\u001b[0m\u001b[0;36m120000\u001b[0m\u001b[0;34m,\u001b[0m \u001b[0mreadonly\u001b[0m\u001b[0;34m=\u001b[0m\u001b[0;32mFalse\u001b[0m\u001b[0;34m)\u001b[0m\u001b[0;34m:\u001b[0m\u001b[0;34m\u001b[0m\u001b[0;34m\u001b[0m\u001b[0m\n\u001b[1;32m     99\u001b[0m   \u001b[0;34m\"\"\"Mount your Google Drive at the specified mountpoint path.\"\"\"\u001b[0m\u001b[0;34m\u001b[0m\u001b[0;34m\u001b[0m\u001b[0m\n\u001b[0;32m--> 100\u001b[0;31m   return _mount(\n\u001b[0m\u001b[1;32m    101\u001b[0m       \u001b[0mmountpoint\u001b[0m\u001b[0;34m,\u001b[0m\u001b[0;34m\u001b[0m\u001b[0;34m\u001b[0m\u001b[0m\n\u001b[1;32m    102\u001b[0m       \u001b[0mforce_remount\u001b[0m\u001b[0;34m=\u001b[0m\u001b[0mforce_remount\u001b[0m\u001b[0;34m,\u001b[0m\u001b[0;34m\u001b[0m\u001b[0;34m\u001b[0m\u001b[0m\n",
            "\u001b[0;32m/usr/local/lib/python3.8/dist-packages/google/colab/drive.py\u001b[0m in \u001b[0;36m_mount\u001b[0;34m(mountpoint, force_remount, timeout_ms, ephemeral, readonly)\u001b[0m\n\u001b[1;32m    121\u001b[0m       'TBE_EPHEM_CREDS_ADDR'] if ephemeral else _os.environ['TBE_CREDS_ADDR']\n\u001b[1;32m    122\u001b[0m   \u001b[0;32mif\u001b[0m \u001b[0mephemeral\u001b[0m\u001b[0;34m:\u001b[0m\u001b[0;34m\u001b[0m\u001b[0;34m\u001b[0m\u001b[0m\n\u001b[0;32m--> 123\u001b[0;31m     _message.blocking_request(\n\u001b[0m\u001b[1;32m    124\u001b[0m         'request_auth', request={'authType': 'dfs_ephemeral'}, timeout_sec=None)\n\u001b[1;32m    125\u001b[0m \u001b[0;34m\u001b[0m\u001b[0m\n",
            "\u001b[0;32m/usr/local/lib/python3.8/dist-packages/google/colab/_message.py\u001b[0m in \u001b[0;36mblocking_request\u001b[0;34m(request_type, request, timeout_sec, parent)\u001b[0m\n\u001b[1;32m    169\u001b[0m   request_id = send_request(\n\u001b[1;32m    170\u001b[0m       request_type, request, parent=parent, expect_reply=True)\n\u001b[0;32m--> 171\u001b[0;31m   \u001b[0;32mreturn\u001b[0m \u001b[0mread_reply_from_input\u001b[0m\u001b[0;34m(\u001b[0m\u001b[0mrequest_id\u001b[0m\u001b[0;34m,\u001b[0m \u001b[0mtimeout_sec\u001b[0m\u001b[0;34m)\u001b[0m\u001b[0;34m\u001b[0m\u001b[0;34m\u001b[0m\u001b[0m\n\u001b[0m",
            "\u001b[0;32m/usr/local/lib/python3.8/dist-packages/google/colab/_message.py\u001b[0m in \u001b[0;36mread_reply_from_input\u001b[0;34m(message_id, timeout_sec)\u001b[0m\n\u001b[1;32m     95\u001b[0m     \u001b[0mreply\u001b[0m \u001b[0;34m=\u001b[0m \u001b[0m_read_next_input_message\u001b[0m\u001b[0;34m(\u001b[0m\u001b[0;34m)\u001b[0m\u001b[0;34m\u001b[0m\u001b[0;34m\u001b[0m\u001b[0m\n\u001b[1;32m     96\u001b[0m     \u001b[0;32mif\u001b[0m \u001b[0mreply\u001b[0m \u001b[0;34m==\u001b[0m \u001b[0m_NOT_READY\u001b[0m \u001b[0;32mor\u001b[0m \u001b[0;32mnot\u001b[0m \u001b[0misinstance\u001b[0m\u001b[0;34m(\u001b[0m\u001b[0mreply\u001b[0m\u001b[0;34m,\u001b[0m \u001b[0mdict\u001b[0m\u001b[0;34m)\u001b[0m\u001b[0;34m:\u001b[0m\u001b[0;34m\u001b[0m\u001b[0;34m\u001b[0m\u001b[0m\n\u001b[0;32m---> 97\u001b[0;31m       \u001b[0mtime\u001b[0m\u001b[0;34m.\u001b[0m\u001b[0msleep\u001b[0m\u001b[0;34m(\u001b[0m\u001b[0;36m0.025\u001b[0m\u001b[0;34m)\u001b[0m\u001b[0;34m\u001b[0m\u001b[0;34m\u001b[0m\u001b[0m\n\u001b[0m\u001b[1;32m     98\u001b[0m       \u001b[0;32mcontinue\u001b[0m\u001b[0;34m\u001b[0m\u001b[0;34m\u001b[0m\u001b[0m\n\u001b[1;32m     99\u001b[0m     if (reply.get('type') == 'colab_reply' and\n",
            "\u001b[0;31mKeyboardInterrupt\u001b[0m: "
          ]
        }
      ],
      "source": [
        "from google.colab import drive\n",
        "drive.mount('/content/drive')"
      ]
    },
    {
      "cell_type": "markdown",
      "metadata": {
        "id": "5s0Lp-1qj2Sk"
      },
      "source": [
        "### (1) DOWNLOAD BASIC DATA"
      ]
    },
    {
      "cell_type": "code",
      "execution_count": null,
      "metadata": {
        "id": "uBADSWf1jtxR"
      },
      "outputs": [],
      "source": [
        "!pip install --upgrade fastapi==0.90.1\n",
        "!git clone https://github.com/AUTOMATIC1111/stable-diffusion-webui\n",
        "!git clone https://github.com/yfszzx/stable-diffusion-webui-images-browser /content/stable-diffusion-webui/extensions/stable-diffusion-webui-images-browser\n",
        "\n",
        "# Model(s) setup\n",
        "# Below are model code for ChilloutMix, we always could change it to our desired model (how-to: https://youtu.be/vj-QrS_mWQI or https://youtu.be/MwyfwPFezvY)\n",
        "!curl -Lo chilloutmixni.safetensors https://huggingface.co/nolanaatama/chomni/resolve/main/chomni.safetensors\n",
        "!mv \"/content/chilloutmixni.safetensors\" \"/content/stable-diffusion-webui/models/Stable-diffusion\"\n",
        "\n",
        "# Additional embeddings\n",
        "!curl -Lo ulzzang-6500.pt https://huggingface.co/nolanaatama/chomni/resolve/main/ulzzang-6500.pt\n",
        "!mv \"/content/ulzzang-6500.pt\" \"/content/stable-diffusion-webui/embeddings\"\n",
        "\n",
        "%cd /content/stable-diffusion-webui\n",
        "!git checkout 91c8d0d\n",
        "!COMMANDLINE_ARGS=\"--share --disable-safe-unpickle --enable-insecure-extension-access\" REQS_FILE=\"requirements.txt\" python launch.py"
      ]
    },
    {
      "cell_type": "markdown",
      "metadata": {
        "id": "fn8UhKT7G0AZ"
      },
      "source": [
        "##### Kalau dah keluar link stop cellnya dan run yg dibawah (2)"
      ]
    },
    {
      "cell_type": "markdown",
      "metadata": {
        "id": "7bVg6bGYGfoI"
      },
      "source": [
        "### (2) Download & Install Model"
      ]
    },
    {
      "cell_type": "code",
      "source": [
        "\n",
        "#******FACE\n",
        "!curl -Lo koreanDollLikeness_v10.safetensors https://huggingface.co/nolanaatama/kdllora/resolve/main/kdllora.safetensors\n",
        "!mv \"/content/stable-diffusion-webui/koreanDollLikeness_v10.safetensors\" \"/content/stable-diffusion-webui/models/Lora\"\n",
        "\n",
        "#sc: https://civitai.com/models/7716/taiwan-doll-likeness\n",
        "!wget https://civitai.com/api/download/models/9070 --content-disposition\n",
        "!mv \"/content/stable-diffusion-webui/taiwanDollLikeness_v10.safetensors\" \"/content/stable-diffusion-webui/models/Lora\"\n",
        "\n",
        "#sc: https://civitai.com/models/9997/liyuu-lora\n",
        "!wget https://civitai.com/api/download/models/11885 --content-disposition\n",
        "!mv \"/content/stable-diffusion-webui/liyuuLora_liyuuV1.safetensors\" \"/content/stable-diffusion-webui/models/Lora\"\n",
        "#*************\n",
        "\n",
        "\n",
        "#*******Arknights\n",
        "#Texas ~ https://civitai.com/models/6779\n",
        "!wget https://civitai.com/api/download/models/7974 --content-disposition\n",
        "!mv \"/content/stable-diffusion-webui/arknightsTexasThe_v10.safetensors\" \"/content/stable-diffusion-webui/models/Lora\"\n",
        "\n",
        "#Skadi ~ https://civitai.com/models/6135/arknights-skadi-the-corrupting-heart\n",
        "!wget https://civitai.com/api/download/models/7173 --content-disposition\n",
        "!mv \"/content/stable-diffusion-webui/arknightsSkadiThe_v10.safetensors\" \"/content/stable-diffusion-webui/models/Lora\"\n",
        "\n",
        "#Nearl ~ https://civitai.com/models/6798/arknights-nearlandnearl-the-radiant-knight\n",
        "!wget https://civitai.com/api/download/models/7995 --content-disposition\n",
        "!mv \"/content/stable-diffusion-webui/arknightsNearlNearlThe_v10.safetensors\" \"/content/stable-diffusion-webui/models/Lora\"\n",
        "\n",
        "#Lappland ~ https://civitai.com/models/10498/arknights-lappland-refined-horrormareaandoriginal-outfits\n",
        "!wget https://civitai.com/api/download/models/12792 --content-disposition\n",
        "!mv \"/content/stable-diffusion-webui/arknightsLappland_v20.safetensors\" \"/content/stable-diffusion-webui/models/Lora\"\n",
        "\n",
        "#Surtr ~ https://civitai.com/models/6586/arknights-surtr\n",
        "!wget https://civitai.com/api/download/models/7727 --content-disposition\n",
        "!mv \"/content/stable-diffusion-webui/ArknightsSurtr_3In1.safetensors\" \"/content/stable-diffusion-webui/models/Lora\"\n",
        "\n",
        "#Nian ~ https://civitai.com/models/8185/arknights-nian\n",
        "!wget https://civitai.com/api/download/models/12189 --content-disposition\n",
        "!mv \"/content/stable-diffusion-webui/ArknightsNian_20.safetensors\" \"/content/stable-diffusion-webui/models/Lora\"\n",
        "\n",
        "#Firewatch\n",
        "!curl -Lo Firewatch.safetensors https://huggingface.co/xiaozhangMJXXZ/Arknights-lora-all/resolve/main/-ch%20Firewatch.safetensors\n",
        "!mv \"/content/stable-diffusion-webui/Firewatch.safetensors\" \"/content/stable-diffusion-webui/models/Lora\"\n",
        "\n",
        "#April\n",
        "!curl -Lo char-april.safetensors https://huggingface.co/dranzerstar/SD-textual-inversion-embeddings-repo/resolve/main/LoRa/char-april.safetensors\n",
        "!mv \"/content/stable-diffusion-webui/char-april.safetensors\" \"/content/stable-diffusion-webui/models/Lora\"\n",
        "#*********end of Arknights\n",
        "\n",
        "#**********BLUE ARCVIVE\n",
        "#Arona ~ https://civitai.com/models/7980/arona-blue-archive\n",
        "!wget https://civitai.com/api/download/models/9409 --content-disposition\n",
        "!mv \"/content/stable-diffusion-webui/aronaBlueArchive_v1.safetensors\" \"/content/stable-diffusion-webui/models/Lora\"\n",
        "\n",
        "#Shiroko ~ https://civitai.com/models/8356/sunaookami-shiroko-lora\n",
        "!wget https://civitai.com/api/download/models/9860 --content-disposition\n",
        "!mv \"/content/stable-diffusion-webui/sunaookamiShiroko_v1.safetensors\" \"/content/stable-diffusion-webui/models/Lora\"\n",
        "\n",
        "#Saori ~ https://civitai.com/models/6762/saori-blue-archive\n",
        "!wget https://civitai.com/api/download/models/7954 --content-disposition\n",
        "!mv \"/content/stable-diffusion-webui/saoriBlueArchive_saorilorav1.safetensors\" \"/content/stable-diffusion-webui/models/Lora\"\n",
        "\n",
        "#Hifumi ~ https://civitai.com/models/7050/bluearchiveajitanihifumi\n",
        "!wget https://civitai.com/api/download/models/8286 --content-disposition\n",
        "!mv \"/content/stable-diffusion-webui/bluearchive_Ajitanihifumi.safetensors\" \"/content/stable-diffusion-webui/models/Lora\"\n",
        "\n",
        "#Abydos ~ https://civitai.com/models/8139/abydos-blue-archive\n",
        "!wget https://civitai.com/api/download/models/9610 --content-disposition\n",
        "!mv \"/content/stable-diffusion-webui/abydosBlueArchive_v1.safetensors\" \"/content/stable-diffusion-webui/models/Lora\"\n",
        "\n",
        "#Ako\n",
        "!curl -Lo char-ako.pt https://huggingface.co/dranzerstar/SD-textual-inversion-embeddings-repo/resolve/main/characters/BA/char-ako.pt\n",
        "!mv \"/content/stable-diffusion-webui/char-ako.pt\" \"/content/stable-diffusion-webui/embeddings\"\n",
        "\n",
        "#Aris\n",
        "!curl -Lo char-aris.pt https://huggingface.co/dranzerstar/SD-textual-inversion-embeddings-repo/resolve/main/characters/BA/char-aris.pt\n",
        "!mv \"/content/stable-diffusion-webui/char-aris.pt\" \"/content/stable-diffusion-webui/embeddings\"\n",
        "\n",
        "#Azusa\n",
        "!curl -Lo char-azusa.pt https://huggingface.co/dranzerstar/SD-textual-inversion-embeddings-repo/resolve/main/characters/BA/char-azusa.pt\n",
        "!mv \"/content/stable-diffusion-webui/char-azusa.pt\" \"/content/stable-diffusion-webui/embeddings\"\n",
        "\n",
        "#Hina\n",
        "!curl -Lo char-hina.pt https://huggingface.co/dranzerstar/SD-textual-inversion-embeddings-repo/resolve/main/characters/BA/char-hina.pt\n",
        "!mv \"/content/stable-diffusion-webui/char-hina.pt\" \"/content/stable-diffusion-webui/embeddings\"\n",
        "\n",
        "#Kayoko\n",
        "!curl -Lo char-kayoko.pt https://huggingface.co/dranzerstar/SD-textual-inversion-embeddings-repo/resolve/main/characters/BA/char-kayoko.pt\n",
        "!mv \"/content/stable-diffusion-webui/char-kayoko.pt\" \"/content/stable-diffusion-webui/embeddings\"\n",
        "\n",
        "#Kokona\n",
        "!curl -Lo char-kokona.pt https://huggingface.co/dranzerstar/SD-textual-inversion-embeddings-repo/resolve/main/characters/BA/char-kokona.pt\n",
        "!mv \"/content/stable-diffusion-webui/char-kokona.pt\" \"/content/stable-diffusion-webui/embeddings\"\n",
        "\n",
        "#Mutsuki\n",
        "!curl -Lo char-mutsuki.pt https://huggingface.co/dranzerstar/SD-textual-inversion-embeddings-repo/resolve/main/characters/BA/char-mutsuki.pt\n",
        "!mv \"/content/stable-diffusion-webui/char-mutsuki.pt\" \"/content/stable-diffusion-webui/embeddings\"\n",
        "\n",
        "#Shun\n",
        "!curl -Lo char-shun.pt https://huggingface.co/dranzerstar/SD-textual-inversion-embeddings-repo/resolve/main/characters/BA/char-shun.pt\n",
        "!mv \"/content/stable-diffusion-webui/char-shun.pt\" \"/content/stable-diffusion-webui/embeddings\"\n",
        "\n",
        "#RIO ~ https://civitai.com/models/7971/blue-archive-tsukatsuki-rio\n",
        "!wget https://civitai.com/api/download/models/9433 --content-disposition\n",
        "!mv \"/content/stable-diffusion-webui/blueArchiveTsukatsuki_rioVer2.safetensors\" \"/content/stable-diffusion-webui/models/Lora\"\n",
        "\n",
        "#Yuuka ~ https://civitai.com/models/11366/hayase-yuuka-blue-archiveor\n",
        "!wget https://civitai.com/api/download/models/13456 --content-disposition\n",
        "!mv \"/content/stable-diffusion-webui/hayaseYuukaBlueArchive_v10.safetensors\" \"/content/stable-diffusion-webui/models/Lora\"\n",
        "#**\"\"\"\"\"\"\"end of Blue Archive\n",
        "\n",
        "#~~~~~~~~GFL\n",
        "#UMP45 ~ https://civitai.com/models/7022/girls-frontline-ump45\n",
        "!wget https://civitai.com/api/download/models/8252 --content-disposition\n",
        "!mv \"/content/stable-diffusion-webui/girlsFrontlineUmp45_v10.safetensors\" \"/content/stable-diffusion-webui/models/Lora\"\n",
        "\n",
        "#NEGEV ~ https://civitai.com/models/10731/negev-girls-frontline\n",
        "!wget https://civitai.com/api/download/models/12734 --content-disposition\n",
        "!mv \"/content/stable-diffusion-webui/negevGirlsFrontline_10.safetensors\" \"/content/stable-diffusion-webui/models/Lora\"\n",
        "\n",
        "#MDR\n",
        "!curl -Lo char-mdr.pt https://huggingface.co/dranzerstar/SD-textual-inversion-embeddings-repo/resolve/main/characters/gfl/char-mdr.pt\n",
        "!mv \"/content/stable-diffusion-webui/char-mdr.pt\" \"/content/stable-diffusion-webui/embeddings\"\n",
        "\n",
        "#M4\n",
        "!curl -Lo char-sop2anni.safetensors https://huggingface.co/dranzerstar/SD-textual-inversion-embeddings-repo/resolve/main/LoRa/char-sop2anni.safetensors\n",
        "!mv \"/content/stable-diffusion-webui/char-sop2anni.safetensors\" \"/content/stable-diffusion-webui/models/Lora\"\n",
        "\n",
        "#M4 Mod\n",
        "!curl -Lo char-m4mod3960.safetensors https://huggingface.co/dranzerstar/SD-textual-inversion-embeddings-repo/resolve/main/LoRa/char-m4mod3960.safetensors\n",
        "!mv \"/content/stable-diffusion-webui/char-m4mod3960.safetensors\" \"/content/stable-diffusion-webui/models/Lora\"\n",
        "\n",
        "#M16A1\n",
        "!curl -Lo char-m16a1.safetensors https://huggingface.co/dranzerstar/SD-textual-inversion-embeddings-repo/resolve/main/LoRa/char-m16a1.safetensors\n",
        "!mv \"/content/stable-diffusion-webui/char-m16a1.safetensors\" \"/content/stable-diffusion-webui/models/Lora\"\n",
        "\n",
        "#UMP9\n",
        "!curl -Lo char-ump9-mod3-og.safetensors https://huggingface.co/dranzerstar/SD-textual-inversion-embeddings-repo/resolve/main/LoRa/char-ump9-mod3-og.safetensors\n",
        "!mv \"/content/stable-diffusion-webui/char-ump9-mod3-og.safetensors\" \"/content/stable-diffusion-webui/models/Lora\"\n",
        "\n",
        "#HK\n",
        "!curl -Lo char-416-space.safetensors https://huggingface.co/dranzerstar/SD-textual-inversion-embeddings-repo/resolve/main/LoRa/char-416-space.safetensors\n",
        "!mv \"/content/stable-diffusion-webui/char-416-space.safetensors\" \"/content/stable-diffusion-webui/models/Lora\"\n",
        "\n",
        "#ro635\n",
        "!curl -Lo char-ro635.safetensors https://huggingface.co/dranzerstar/SD-textual-inversion-embeddings-repo/resolve/main/LoRa/char-ro635.safetensors\n",
        "!mv \"/content/stable-diffusion-webui/char-ro635.safetensors\" \"/content/stable-diffusion-webui/models/Lora\"\n",
        "\n",
        "#SOL NCL\n",
        "!curl -Lo char-sol.safetensors https://huggingface.co/dranzerstar/SD-textual-inversion-embeddings-repo/resolve/main/LoRa/char-sol.safetensors\n",
        "!mv \"/content/stable-diffusion-webui/char-sol.safetensors\" \"/content/stable-diffusion-webui/models/Lora\"\n",
        "#~~~~~~~~~End Of GFL\n",
        "\n",
        "#~~~~~~~~PGR\n",
        "#QU\n",
        "!curl -Lo char-qu.safetensors https://huggingface.co/dranzerstar/SD-textual-inversion-embeddings-repo/resolve/main/LoRa/char-qu.safetensors\n",
        "!mv \"/content/stable-diffusion-webui/char-qu.safetensors\" \"/content/stable-diffusion-webui/models/Lora\"\n",
        "\n",
        "#Lucia Crimson Abyss ~ https://civitai.com/models/7652/lucia-crimson-abyss\n",
        "!wget https://civitai.com/api/download/models/8986 --content-disposition\n",
        "!mv \"/content/stable-diffusion-webui/luciaCrimsonAbyss_v10.safetensors\" \"/content/stable-diffusion-webui/models/Lora\"\n",
        "#~~~~~~~~~End Of PGR\n",
        "\n",
        "#Bocchi ~ https://civitai.com/models/7624/hitori-gotoh-bocchi-the-rock\n",
        "!wget https://civitai.com/api/download/models/8953 --content-disposition\n",
        "!mv \"/content/stable-diffusion-webui/hitoriGotohBocchiThe_v1.safetensors\" \"/content/stable-diffusion-webui/models/Lora\"\n",
        "\n",
        "\n",
        "#Idolmaster\n",
        "#Madoka ~ https://civitai.com/models/7785/character-madoka\n",
        "!wget https://civitai.com/api/download/models/7852 --content-disposition\n",
        "!mv \"/content/stable-diffusion-webui/characterMadoka_v10.safetensors\" \"/content/stable-diffusion-webui/models/Lora\"\n",
        "\n",
        "#Toru\n",
        "!curl -Lo char-toru.pt https://huggingface.co/dranzerstar/SD-textual-inversion-embeddings-repo/resolve/main/characters/shinymas/char-toru.pt\n",
        "!mv \"/content/stable-diffusion-webui/char-toru.pt\" \"/content/stable-diffusion-webui/embeddings\"\n",
        "#end of idolmaster\n",
        "\n",
        "\n",
        "\n",
        "#OBJECT\n",
        "#Nissan ~ https://civitai.com/models/8778/nissan-skyline-gt-r-r34-car-lora\n",
        "!wget https://civitai.com/api/download/models/10364 --content-disposition\n",
        "!mv \"/content/stable-diffusion-webui/nissanSkylineGTRR34_v10.safetensors\" \"/content/stable-diffusion-webui/models/Lora\"\n",
        "\n",
        "#Toyota ~ https://civitai.com/models/9140/toyota-aristo-jzs160-and-lexus-gs-gen2-car-lora\n",
        "!wget https://civitai.com/api/download/models/10814 --content-disposition\n",
        "!mv \"/content/stable-diffusion-webui/toyotaAristoJZS160LEXUS_v10.safetensors\" \"/content/stable-diffusion-webui/models/Lora\"\n",
        "\n",
        "#pose\n",
        "#jack o ~ https://civitai.com/models/10353/jack-o-challenge-pose-lora-1-mb\n",
        "!wget https://civitai.com/api/download/models/12304 --content-disposition\n",
        "!mv \"/content/stable-diffusion-webui/jackOChallengePoseLora_jackoposefront.safetensors\" \"/content/stable-diffusion-webui/models/Lora\"\n",
        "\n",
        "#mask ~ https://civitai.com/models/11072/conceptmask-pull\n",
        "!wget https://civitai.com/api/download/models/13115 --content-disposition\n",
        "!mv \"/content/stable-diffusion-webui/ConceptMaskPull_v1.safetensors\" \"/content/stable-diffusion-webui/models/Lora\"\n",
        "\n",
        "#fuck middle finger ~ https://civitai.com/models/7016/middle-finger-lora\n",
        "!wget https://civitai.com/api/download/models/8244 --content-disposition\n",
        "!mv \"/content/stable-diffusion-webui/middleFingerLORA_midfingv1.safetensors\" \"/content/stable-diffusion-webui/models/Lora\"\n",
        "\n",
        "#kabedon ~ https://civitai.com/models/9946/kabedon-receivers-pov-or-or\n",
        "!wget https://civitai.com/api/download/models/11825 --content-disposition\n",
        "!mv \"/content/stable-diffusion-webui/middleFingerLORA_midfingv1.safetensors\" \"/content/stable-diffusion-webui/models/Lora\"\n",
        "\n",
        "\n",
        "\n",
        "\n",
        "!COMMANDLINE_ARGS=\"--share --disable-safe-unpickle --no-half-vae --xformers --reinstall-xformers --enable-insecure-extension-access\" REQS_FILE=\"requirements.txt\" python launch.py"
      ],
      "metadata": {
        "id": "69CngHX3Yi0I"
      },
      "execution_count": null,
      "outputs": []
    },
    {
      "cell_type": "markdown",
      "source": [
        "#WARNING 🔞"
      ],
      "metadata": {
        "id": "0p4leT_lP-7c"
      }
    },
    {
      "cell_type": "code",
      "source": [
        "\n",
        "#WARNING 18+ (Pose) not 100% successful\n",
        "#Grabbing own Ass ~ https://civitai.com/models/8179/grabbing-own-ass\n",
        "!wget https://civitai.com/api/download/models/13373 --content-disposition\n",
        "!mv \"/content/stable-diffusion-webui/grabbingOwnAss_v1Pruned.safetensors\" \"/content/stable-diffusion-webui/models/Lora\"\n",
        "\n",
        "#Blowjob ~ https://civitai.com/models/9045/redo-of-povbjer\n",
        "!wget https://civitai.com/api/download/models/10690 --content-disposition\n",
        "!mv \"/content/stable-diffusion-webui/redoOfPovbjer_v2.safetensors\" \"/content/stable-diffusion-webui/models/Lora\"\n",
        "\n",
        "#DoggyStyle ~ https://civitai.com/models/8723/pov-doggystyle-lora-1-mb\n",
        "!wget https://civitai.com/api/download/models/10290 --content-disposition\n",
        "!mv \"/content/stable-diffusion-webui/povDoggystyleLora1MB_povdoggy.safetensors\" \"/content/stable-diffusion-webui/models/Lora\"\n",
        "\n",
        "#Penetration ~ https://civitai.com/models/9432/pov-imminent-penetration-1-mb\n",
        "!wget https://civitai.com/api/download/models/11192 --content-disposition\n",
        "!mv \"/content/stable-diffusion-webui/povImminentPenetration_ipv1.safetensors\" \"/content/stable-diffusion-webui/models/Lora\"\n",
        "\n",
        "#breasts on glass ~ https://civitai.com/models/7328/breastsonglass\n",
        "!wget https://civitai.com/api/download/models/8614 --content-disposition\n",
        "!mv \"/content/stable-diffusion-webui/breastsOnGlass_v10.safetensors\" \"/content/stable-diffusion-webui/models/Lora\"\n",
        "\n",
        "#Dildo ~ https://civitai.com/models/8349/riding-dildo-or-sex-act-lora-658\n",
        "!wget https://civitai.com/api/download/models/9852 --content-disposition\n",
        "!mv \"/content/stable-diffusion-webui/ridingDildoSexActLora_v10.safetensors\" \"/content/stable-diffusion-webui/models/Lora\"\n",
        "\n",
        "#Coming Soon update XD\n",
        "\n",
        "\n",
        "!COMMANDLINE_ARGS=\"--share --disable-safe-unpickle --no-half-vae --xformers --reinstall-xformers --enable-insecure-extension-access\" REQS_FILE=\"requirements.txt\" python launch.py"
      ],
      "metadata": {
        "id": "wxHS4mjzQF8h"
      },
      "execution_count": null,
      "outputs": []
    }
  ],
  "metadata": {
    "accelerator": "GPU",
    "colab": {
      "provenance": [],
      "authorship_tag": "ABX9TyPfJHP3NgBG1+SzJwYn/VXy",
      "include_colab_link": true
    },
    "gpuClass": "standard",
    "kernelspec": {
      "display_name": "Python 3",
      "name": "python3"
    },
    "language_info": {
      "name": "python"
    }
  },
  "nbformat": 4,
  "nbformat_minor": 0
}