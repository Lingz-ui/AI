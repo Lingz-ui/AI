{
  "cells": [
    {
      "cell_type": "markdown",
      "metadata": {
        "id": "view-in-github",
        "colab_type": "text"
      },
      "source": [
        "<a href=\"https://colab.research.google.com/github/Lingz-ui/AI/blob/main/Lingz_sd.ipynb\" target=\"_parent\"><img src=\"https://colab.research.google.com/assets/colab-badge.svg\" alt=\"Open In Colab\"/></a>"
      ]
    },
    {
      "cell_type": "markdown",
      "metadata": {
        "id": "tr05uki3i3U9"
      },
      "source": [
        "Connect to google drive"
      ]
    },
    {
      "cell_type": "code",
      "execution_count": null,
      "metadata": {
        "colab": {
          "base_uri": "https://localhost:8080/"
        },
        "id": "nLjYOTbqgWjk",
        "outputId": "a2c470c5-63c6-4afe-85a1-32cf3d000d5d"
      },
      "outputs": [
        {
          "name": "stdout",
          "output_type": "stream",
          "text": [
            "Mounted at /content/drive\n"
          ]
        }
      ],
      "source": [
        "from google.colab import drive\n",
        "drive.mount('/content/drive')"
      ]
    },
    {
      "cell_type": "markdown",
      "metadata": {
        "id": "5s0Lp-1qj2Sk"
      },
      "source": [
        "### (1) DOWNLOAD BASIC DATA"
      ]
    },
    {
      "cell_type": "code",
      "execution_count": null,
      "metadata": {
        "id": "uBADSWf1jtxR"
      },
      "outputs": [],
      "source": [
        "!pip install --upgrade fastapi==0.90.1\n",
        "!git clone https://github.com/AUTOMATIC1111/stable-diffusion-webui\n",
        "!git clone https://github.com/yfszzx/stable-diffusion-webui-images-browser /content/stable-diffusion-webui/extensions/stable-diffusion-webui-images-browser\n",
        "\n",
        "# Model(s) setup\n",
        "# Below are model code for ChilloutMix, we always could change it to our desired model (how-to: https://youtu.be/vj-QrS_mWQI or https://youtu.be/MwyfwPFezvY)\n",
        "!curl -Lo chilloutmixni.safetensors https://huggingface.co/nolanaatama/chomni/resolve/main/chomni.safetensors\n",
        "!mv \"/content/chilloutmixni.safetensors\" \"/content/stable-diffusion-webui/models/Stable-diffusion\"\n",
        "\n",
        "# Additional embeddings\n",
        "!curl -Lo ulzzang-6500.pt https://huggingface.co/nolanaatama/chomni/resolve/main/ulzzang-6500.pt\n",
        "!mv \"/content/ulzzang-6500.pt\" \"/content/stable-diffusion-webui/embeddings\"\n",
        "\n",
        "%cd /content/stable-diffusion-webui\n",
        "!git checkout 91c8d0d\n",
        "!COMMANDLINE_ARGS=\"--share --disable-safe-unpickle --enable-insecure-extension-access\" REQS_FILE=\"requirements.txt\" python launch.py"
      ]
    },
    {
      "cell_type": "markdown",
      "metadata": {
        "id": "fn8UhKT7G0AZ"
      },
      "source": [
        "##### Kalau dah keluar link stop cellnya dan run yg dibawah (2)"
      ]
    },
    {
      "cell_type": "markdown",
      "metadata": {
        "id": "7bVg6bGYGfoI"
      },
      "source": [
        "### (2) Download & Install Model"
      ]
    },
    {
      "cell_type": "code",
      "source": [
        "\n",
        "!curl -Lo koreanDollLikeness_v10.safetensors https://huggingface.co/nolanaatama/kdllora/resolve/main/kdllora.safetensors\n",
        "!mv \"/content/stable-diffusion-webui/koreanDollLikeness_v10.safetensors\" \"/content/stable-diffusion-webui/models/Lora\"\n",
        "\n",
        "#Arknights\n",
        "#Texas ~ https://civitai.com/models/6779\n",
        "!wget https://civitai.com/api/download/models/7974 --content-disposition\n",
        "!mv \"/content/stable-diffusion-webui/arknightsTexasThe_v10.safetensors\" \"/content/stable-diffusion-webui/models/Lora\"\n",
        "\n",
        "#Skadi ~ https://civitai.com/models/6135/arknights-skadi-the-corrupting-heart\n",
        "!wget https://civitai.com/api/download/models/7173 --content-disposition\n",
        "!mv \"/content/stable-diffusion-webui/arknightsSkadiThe_v10.safetensors\" \"/content/stable-diffusion-webui/models/Lora\"\n",
        "\n",
        "#Nearl ~ https://civitai.com/models/6798/arknights-nearlandnearl-the-radiant-knight\n",
        "!wget https://civitai.com/api/download/models/7995 --content-disposition\n",
        "!mv \"/content/stable-diffusion-webui/arknightsNearlNearlThe_v10.safetensors\" \"/content/stable-diffusion-webui/models/Lora\"\n",
        "\n",
        "#Lappland ~ https://civitai.com/models/10498/arknights-lappland-refined-horrormareaandoriginal-outfits\n",
        "!wget https://civitai.com/api/download/models/12792 --content-disposition\n",
        "!mv \"/content/stable-diffusion-webui/arknightsLappland_v20.safetensors\" \"/content/stable-diffusion-webui/models/Lora\"\n",
        "\n",
        "#FrostNova ~ https://civitai.com/models/8079/arknightsfrostnova\n",
        "!wget https://civitai.com/api/download/models/9529 --content-disposition\n",
        "!mv \"/content/stable-diffusion-webui/ArknightsFrostnova_v10.safetensors\" \"/content/stable-diffusion-webui/models/Lora\"\n",
        "\n",
        "#Surtr ~ https://civitai.com/models/6586/arknights-surtr\n",
        "!wget https://civitai.com/api/download/models/7727 --content-disposition\n",
        "!mv \"/content/stable-diffusion-webui/ArknightsSurtr_3In1.safetensors\" \"/content/stable-diffusion-webui/models/Lora\"\n",
        "\n",
        "#Nian ~ https://civitai.com/models/8185/arknights-nian\n",
        "!wget https://civitai.com/api/download/models/12189 --content-disposition\n",
        "!mv \"/content/stable-diffusion-webui/ArknightsNian_20.safetensors\" \"/content/stable-diffusion-webui/models/Lora\"\n",
        "#end of arknights\n",
        "\n",
        "\n",
        "#Arona BLUE ARCVIVE ~ https://civitai.com/models/7980/arona-blue-archive\n",
        "!wget https://civitai.com/api/download/models/9409 --content-disposition\n",
        "!mv \"/content/stable-diffusion-webui/aronaBlueArchive_v1.safetensors\" \"/content/stable-diffusion-webui/models/Lora\"\n",
        "\n",
        "#Shiroko BLUE ARCVIVE ~ https://civitai.com/models/8356/sunaookami-shiroko-lora\n",
        "!wget https://civitai.com/api/download/models/9860 --content-disposition\n",
        "!mv \"/content/stable-diffusion-webui/sunaookamiShiroko_v1.safetensors\" \"/content/stable-diffusion-webui/models/Lora\"\n",
        "\n",
        "#Saori BLUE ARCVIVE ~ https://civitai.com/models/6762/saori-blue-archive\n",
        "!wget https://civitai.com/api/download/models/7954 --content-disposition\n",
        "!mv \"/content/stable-diffusion-webui/saoriBlueArchive_saorilorav1.safetensors\" \"/content/stable-diffusion-webui/models/Lora\"\n",
        "\n",
        "#UMP45 GFL ~ https://civitai.com/models/7022/girls-frontline-ump45\n",
        "!wget https://civitai.com/api/download/models/8252 --content-disposition\n",
        "!mv \"/content/stable-diffusion-webui/girlsFrontlineUmp45_v10.safetensors\" \"/content/stable-diffusion-webui/models/Lora\"\n",
        "\n",
        "#NEGEV GFL ~ https://civitai.com/models/10731/negev-girls-frontline\n",
        "!wget https://civitai.com/api/download/models/12734 --content-disposition\n",
        "!mv \"/content/stable-diffusion-webui/negevGirlsFrontline_10.safetensors\" \"/content/stable-diffusion-webui/models/Lora\"\n",
        "\n",
        "#Alice Nikke ~ https://civitai.com/models/7563/alice-nikke\n",
        "!wget https://civitai.com/api/download/models/11075 --content-disposition\n",
        "!mv \"/content/stable-diffusion-webui/aliceNikke_v25.safetensors\" \"/content/stable-diffusion-webui/models/Lora\"\n",
        "\n",
        "#Bocchi ~ https://civitai.com/models/7624/hitori-gotoh-bocchi-the-rock\n",
        "!wget https://civitai.com/api/download/models/8953 --content-disposition\n",
        "!mv \"/content/stable-diffusion-webui/hitoriGotohBocchiThe_v1.safetensors\" \"/content/stable-diffusion-webui/models/Lora\"\n",
        "\n",
        "!COMMANDLINE_ARGS=\"--share --disable-safe-unpickle --no-half-vae --xformers --reinstall-xformers --enable-insecure-extension-access\" REQS_FILE=\"requirements.txt\" python launch.py"
      ],
      "metadata": {
        "id": "69CngHX3Yi0I"
      },
      "execution_count": null,
      "outputs": []
    }
  ],
  "metadata": {
    "accelerator": "GPU",
    "colab": {
      "provenance": [],
      "authorship_tag": "ABX9TyOrJYfPZsnZk6sKVsztfJWw",
      "include_colab_link": true
    },
    "gpuClass": "standard",
    "kernelspec": {
      "display_name": "Python 3",
      "name": "python3"
    },
    "language_info": {
      "name": "python"
    }
  },
  "nbformat": 4,
  "nbformat_minor": 0
}